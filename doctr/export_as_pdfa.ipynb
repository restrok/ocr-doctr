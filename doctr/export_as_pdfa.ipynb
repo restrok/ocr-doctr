{
  "cells": [
    {
      "cell_type": "markdown",
      "metadata": {
        "id": "ID2g9XHMvAXO"
      },
      "source": [
        "# Generate PDF/A files from docTR output\n",
        "\n",
        "These files have also a readable text layer on top of the image, which can be used to search in a document with any PDF-Viewer."
      ]
    },
    {
      "cell_type": "code",
      "execution_count": 1,
      "metadata": {
        "id": "sPMz5UYUvAXQ",
        "outputId": "5a69268c-debc-4fdc-f422-4531acf96c83",
        "colab": {
          "base_uri": "https://localhost:8080/"
        }
      },
      "outputs": [
        {
          "output_type": "stream",
          "name": "stdout",
          "text": [
            "Found existing installation: tensorflow 2.18.0\n",
            "Uninstalling tensorflow-2.18.0:\n",
            "  Successfully uninstalled tensorflow-2.18.0\n",
            "Collecting python-doctr@ git+https://github.com/mindee/doctr.git (from python-doctr[torch,viz]@ git+https://github.com/mindee/doctr.git)\n",
            "  Cloning https://github.com/mindee/doctr.git to /tmp/pip-install-vt43k2q5/python-doctr_12b48ff16f234e87b6ac8335ab4d0e06\n",
            "  Running command git clone --filter=blob:none --quiet https://github.com/mindee/doctr.git /tmp/pip-install-vt43k2q5/python-doctr_12b48ff16f234e87b6ac8335ab4d0e06\n",
            "  Resolved https://github.com/mindee/doctr.git to commit b84bb848665a6d67bbac227b5a18235da0c3ff13\n",
            "  Installing build dependencies ... \u001b[?25l\u001b[?25hdone\n",
            "  Getting requirements to build wheel ... \u001b[?25l\u001b[?25hdone\n",
            "  Preparing metadata (pyproject.toml) ... \u001b[?25l\u001b[?25hdone\n",
            "Requirement already satisfied: numpy<3.0.0,>=1.16.0 in /usr/local/lib/python3.11/dist-packages (from python-doctr@ git+https://github.com/mindee/doctr.git->python-doctr[torch,viz]@ git+https://github.com/mindee/doctr.git) (1.26.4)\n",
            "Requirement already satisfied: scipy<2.0.0,>=1.4.0 in /usr/local/lib/python3.11/dist-packages (from python-doctr@ git+https://github.com/mindee/doctr.git->python-doctr[torch,viz]@ git+https://github.com/mindee/doctr.git) (1.13.1)\n",
            "Requirement already satisfied: h5py<4.0.0,>=3.1.0 in /usr/local/lib/python3.11/dist-packages (from python-doctr@ git+https://github.com/mindee/doctr.git->python-doctr[torch,viz]@ git+https://github.com/mindee/doctr.git) (3.12.1)\n",
            "Requirement already satisfied: opencv-python<5.0.0,>=4.5.0 in /usr/local/lib/python3.11/dist-packages (from python-doctr@ git+https://github.com/mindee/doctr.git->python-doctr[torch,viz]@ git+https://github.com/mindee/doctr.git) (4.10.0.84)\n",
            "Collecting pypdfium2<5.0.0,>=4.11.0 (from python-doctr@ git+https://github.com/mindee/doctr.git->python-doctr[torch,viz]@ git+https://github.com/mindee/doctr.git)\n",
            "  Downloading pypdfium2-4.30.1-py3-none-manylinux_2_17_x86_64.manylinux2014_x86_64.whl.metadata (48 kB)\n",
            "\u001b[2K     \u001b[90m━━━━━━━━━━━━━━━━━━━━━━━━━━━━━━━━━━━━━━━━\u001b[0m \u001b[32m48.2/48.2 kB\u001b[0m \u001b[31m3.0 MB/s\u001b[0m eta \u001b[36m0:00:00\u001b[0m\n",
            "\u001b[?25hCollecting pyclipper<2.0.0,>=1.2.0 (from python-doctr@ git+https://github.com/mindee/doctr.git->python-doctr[torch,viz]@ git+https://github.com/mindee/doctr.git)\n",
            "  Downloading pyclipper-1.3.0.post6-cp311-cp311-manylinux_2_17_x86_64.manylinux2014_x86_64.whl.metadata (9.0 kB)\n",
            "Requirement already satisfied: shapely<3.0.0,>=1.6.0 in /usr/local/lib/python3.11/dist-packages (from python-doctr@ git+https://github.com/mindee/doctr.git->python-doctr[torch,viz]@ git+https://github.com/mindee/doctr.git) (2.0.6)\n",
            "Collecting langdetect<2.0.0,>=1.0.9 (from python-doctr@ git+https://github.com/mindee/doctr.git->python-doctr[torch,viz]@ git+https://github.com/mindee/doctr.git)\n",
            "  Downloading langdetect-1.0.9.tar.gz (981 kB)\n",
            "\u001b[2K     \u001b[90m━━━━━━━━━━━━━━━━━━━━━━━━━━━━━━━━━━━━━━━━\u001b[0m \u001b[32m981.5/981.5 kB\u001b[0m \u001b[31m22.7 MB/s\u001b[0m eta \u001b[36m0:00:00\u001b[0m\n",
            "\u001b[?25h  Preparing metadata (setup.py) ... \u001b[?25l\u001b[?25hdone\n",
            "Collecting rapidfuzz<4.0.0,>=3.0.0 (from python-doctr@ git+https://github.com/mindee/doctr.git->python-doctr[torch,viz]@ git+https://github.com/mindee/doctr.git)\n",
            "  Downloading rapidfuzz-3.12.1-cp311-cp311-manylinux_2_17_x86_64.manylinux2014_x86_64.whl.metadata (11 kB)\n",
            "Requirement already satisfied: huggingface-hub<1.0.0,>=0.20.0 in /usr/local/lib/python3.11/dist-packages (from python-doctr@ git+https://github.com/mindee/doctr.git->python-doctr[torch,viz]@ git+https://github.com/mindee/doctr.git) (0.27.1)\n",
            "Requirement already satisfied: Pillow>=9.2.0 in /usr/local/lib/python3.11/dist-packages (from python-doctr@ git+https://github.com/mindee/doctr.git->python-doctr[torch,viz]@ git+https://github.com/mindee/doctr.git) (11.1.0)\n",
            "Requirement already satisfied: defusedxml>=0.7.0 in /usr/local/lib/python3.11/dist-packages (from python-doctr@ git+https://github.com/mindee/doctr.git->python-doctr[torch,viz]@ git+https://github.com/mindee/doctr.git) (0.7.1)\n",
            "Collecting anyascii>=0.3.2 (from python-doctr@ git+https://github.com/mindee/doctr.git->python-doctr[torch,viz]@ git+https://github.com/mindee/doctr.git)\n",
            "  Downloading anyascii-0.3.2-py3-none-any.whl.metadata (1.5 kB)\n",
            "Requirement already satisfied: tqdm>=4.30.0 in /usr/local/lib/python3.11/dist-packages (from python-doctr@ git+https://github.com/mindee/doctr.git->python-doctr[torch,viz]@ git+https://github.com/mindee/doctr.git) (4.67.1)\n",
            "Requirement already satisfied: torch<3.0.0,>=2.0.0 in /usr/local/lib/python3.11/dist-packages (from python-doctr@ git+https://github.com/mindee/doctr.git->python-doctr[torch,viz]@ git+https://github.com/mindee/doctr.git) (2.5.1+cu124)\n",
            "Requirement already satisfied: torchvision>=0.15.0 in /usr/local/lib/python3.11/dist-packages (from python-doctr@ git+https://github.com/mindee/doctr.git->python-doctr[torch,viz]@ git+https://github.com/mindee/doctr.git) (0.20.1+cu124)\n",
            "Collecting onnx<3.0.0,>=1.12.0 (from python-doctr@ git+https://github.com/mindee/doctr.git->python-doctr[torch,viz]@ git+https://github.com/mindee/doctr.git)\n",
            "  Downloading onnx-1.17.0-cp311-cp311-manylinux_2_17_x86_64.manylinux2014_x86_64.whl.metadata (16 kB)\n",
            "Requirement already satisfied: matplotlib>=3.1.0 in /usr/local/lib/python3.11/dist-packages (from python-doctr@ git+https://github.com/mindee/doctr.git->python-doctr[torch,viz]@ git+https://github.com/mindee/doctr.git) (3.10.0)\n",
            "Collecting mplcursors>=0.3 (from python-doctr@ git+https://github.com/mindee/doctr.git->python-doctr[torch,viz]@ git+https://github.com/mindee/doctr.git)\n",
            "  Downloading mplcursors-0.6-py3-none-any.whl.metadata (3.0 kB)\n",
            "Requirement already satisfied: filelock in /usr/local/lib/python3.11/dist-packages (from huggingface-hub<1.0.0,>=0.20.0->python-doctr@ git+https://github.com/mindee/doctr.git->python-doctr[torch,viz]@ git+https://github.com/mindee/doctr.git) (3.17.0)\n",
            "Requirement already satisfied: fsspec>=2023.5.0 in /usr/local/lib/python3.11/dist-packages (from huggingface-hub<1.0.0,>=0.20.0->python-doctr@ git+https://github.com/mindee/doctr.git->python-doctr[torch,viz]@ git+https://github.com/mindee/doctr.git) (2024.10.0)\n",
            "Requirement already satisfied: packaging>=20.9 in /usr/local/lib/python3.11/dist-packages (from huggingface-hub<1.0.0,>=0.20.0->python-doctr@ git+https://github.com/mindee/doctr.git->python-doctr[torch,viz]@ git+https://github.com/mindee/doctr.git) (24.2)\n",
            "Requirement already satisfied: pyyaml>=5.1 in /usr/local/lib/python3.11/dist-packages (from huggingface-hub<1.0.0,>=0.20.0->python-doctr@ git+https://github.com/mindee/doctr.git->python-doctr[torch,viz]@ git+https://github.com/mindee/doctr.git) (6.0.2)\n",
            "Requirement already satisfied: requests in /usr/local/lib/python3.11/dist-packages (from huggingface-hub<1.0.0,>=0.20.0->python-doctr@ git+https://github.com/mindee/doctr.git->python-doctr[torch,viz]@ git+https://github.com/mindee/doctr.git) (2.32.3)\n",
            "Requirement already satisfied: typing-extensions>=3.7.4.3 in /usr/local/lib/python3.11/dist-packages (from huggingface-hub<1.0.0,>=0.20.0->python-doctr@ git+https://github.com/mindee/doctr.git->python-doctr[torch,viz]@ git+https://github.com/mindee/doctr.git) (4.12.2)\n",
            "Requirement already satisfied: six in /usr/local/lib/python3.11/dist-packages (from langdetect<2.0.0,>=1.0.9->python-doctr@ git+https://github.com/mindee/doctr.git->python-doctr[torch,viz]@ git+https://github.com/mindee/doctr.git) (1.17.0)\n",
            "Requirement already satisfied: contourpy>=1.0.1 in /usr/local/lib/python3.11/dist-packages (from matplotlib>=3.1.0->python-doctr@ git+https://github.com/mindee/doctr.git->python-doctr[torch,viz]@ git+https://github.com/mindee/doctr.git) (1.3.1)\n",
            "Requirement already satisfied: cycler>=0.10 in /usr/local/lib/python3.11/dist-packages (from matplotlib>=3.1.0->python-doctr@ git+https://github.com/mindee/doctr.git->python-doctr[torch,viz]@ git+https://github.com/mindee/doctr.git) (0.12.1)\n",
            "Requirement already satisfied: fonttools>=4.22.0 in /usr/local/lib/python3.11/dist-packages (from matplotlib>=3.1.0->python-doctr@ git+https://github.com/mindee/doctr.git->python-doctr[torch,viz]@ git+https://github.com/mindee/doctr.git) (4.55.7)\n",
            "Requirement already satisfied: kiwisolver>=1.3.1 in /usr/local/lib/python3.11/dist-packages (from matplotlib>=3.1.0->python-doctr@ git+https://github.com/mindee/doctr.git->python-doctr[torch,viz]@ git+https://github.com/mindee/doctr.git) (1.4.8)\n",
            "Requirement already satisfied: pyparsing>=2.3.1 in /usr/local/lib/python3.11/dist-packages (from matplotlib>=3.1.0->python-doctr@ git+https://github.com/mindee/doctr.git->python-doctr[torch,viz]@ git+https://github.com/mindee/doctr.git) (3.2.1)\n",
            "Requirement already satisfied: python-dateutil>=2.7 in /usr/local/lib/python3.11/dist-packages (from matplotlib>=3.1.0->python-doctr@ git+https://github.com/mindee/doctr.git->python-doctr[torch,viz]@ git+https://github.com/mindee/doctr.git) (2.8.2)\n",
            "Requirement already satisfied: protobuf>=3.20.2 in /usr/local/lib/python3.11/dist-packages (from onnx<3.0.0,>=1.12.0->python-doctr@ git+https://github.com/mindee/doctr.git->python-doctr[torch,viz]@ git+https://github.com/mindee/doctr.git) (4.25.6)\n",
            "Requirement already satisfied: networkx in /usr/local/lib/python3.11/dist-packages (from torch<3.0.0,>=2.0.0->python-doctr@ git+https://github.com/mindee/doctr.git->python-doctr[torch,viz]@ git+https://github.com/mindee/doctr.git) (3.4.2)\n",
            "Requirement already satisfied: jinja2 in /usr/local/lib/python3.11/dist-packages (from torch<3.0.0,>=2.0.0->python-doctr@ git+https://github.com/mindee/doctr.git->python-doctr[torch,viz]@ git+https://github.com/mindee/doctr.git) (3.1.5)\n",
            "Collecting nvidia-cuda-nvrtc-cu12==12.4.127 (from torch<3.0.0,>=2.0.0->python-doctr@ git+https://github.com/mindee/doctr.git->python-doctr[torch,viz]@ git+https://github.com/mindee/doctr.git)\n",
            "  Downloading nvidia_cuda_nvrtc_cu12-12.4.127-py3-none-manylinux2014_x86_64.whl.metadata (1.5 kB)\n",
            "Collecting nvidia-cuda-runtime-cu12==12.4.127 (from torch<3.0.0,>=2.0.0->python-doctr@ git+https://github.com/mindee/doctr.git->python-doctr[torch,viz]@ git+https://github.com/mindee/doctr.git)\n",
            "  Downloading nvidia_cuda_runtime_cu12-12.4.127-py3-none-manylinux2014_x86_64.whl.metadata (1.5 kB)\n",
            "Collecting nvidia-cuda-cupti-cu12==12.4.127 (from torch<3.0.0,>=2.0.0->python-doctr@ git+https://github.com/mindee/doctr.git->python-doctr[torch,viz]@ git+https://github.com/mindee/doctr.git)\n",
            "  Downloading nvidia_cuda_cupti_cu12-12.4.127-py3-none-manylinux2014_x86_64.whl.metadata (1.6 kB)\n",
            "Collecting nvidia-cudnn-cu12==9.1.0.70 (from torch<3.0.0,>=2.0.0->python-doctr@ git+https://github.com/mindee/doctr.git->python-doctr[torch,viz]@ git+https://github.com/mindee/doctr.git)\n",
            "  Downloading nvidia_cudnn_cu12-9.1.0.70-py3-none-manylinux2014_x86_64.whl.metadata (1.6 kB)\n",
            "Collecting nvidia-cublas-cu12==12.4.5.8 (from torch<3.0.0,>=2.0.0->python-doctr@ git+https://github.com/mindee/doctr.git->python-doctr[torch,viz]@ git+https://github.com/mindee/doctr.git)\n",
            "  Downloading nvidia_cublas_cu12-12.4.5.8-py3-none-manylinux2014_x86_64.whl.metadata (1.5 kB)\n",
            "Collecting nvidia-cufft-cu12==11.2.1.3 (from torch<3.0.0,>=2.0.0->python-doctr@ git+https://github.com/mindee/doctr.git->python-doctr[torch,viz]@ git+https://github.com/mindee/doctr.git)\n",
            "  Downloading nvidia_cufft_cu12-11.2.1.3-py3-none-manylinux2014_x86_64.whl.metadata (1.5 kB)\n",
            "Collecting nvidia-curand-cu12==10.3.5.147 (from torch<3.0.0,>=2.0.0->python-doctr@ git+https://github.com/mindee/doctr.git->python-doctr[torch,viz]@ git+https://github.com/mindee/doctr.git)\n",
            "  Downloading nvidia_curand_cu12-10.3.5.147-py3-none-manylinux2014_x86_64.whl.metadata (1.5 kB)\n",
            "Collecting nvidia-cusolver-cu12==11.6.1.9 (from torch<3.0.0,>=2.0.0->python-doctr@ git+https://github.com/mindee/doctr.git->python-doctr[torch,viz]@ git+https://github.com/mindee/doctr.git)\n",
            "  Downloading nvidia_cusolver_cu12-11.6.1.9-py3-none-manylinux2014_x86_64.whl.metadata (1.6 kB)\n",
            "Collecting nvidia-cusparse-cu12==12.3.1.170 (from torch<3.0.0,>=2.0.0->python-doctr@ git+https://github.com/mindee/doctr.git->python-doctr[torch,viz]@ git+https://github.com/mindee/doctr.git)\n",
            "  Downloading nvidia_cusparse_cu12-12.3.1.170-py3-none-manylinux2014_x86_64.whl.metadata (1.6 kB)\n",
            "Requirement already satisfied: nvidia-nccl-cu12==2.21.5 in /usr/local/lib/python3.11/dist-packages (from torch<3.0.0,>=2.0.0->python-doctr@ git+https://github.com/mindee/doctr.git->python-doctr[torch,viz]@ git+https://github.com/mindee/doctr.git) (2.21.5)\n",
            "Requirement already satisfied: nvidia-nvtx-cu12==12.4.127 in /usr/local/lib/python3.11/dist-packages (from torch<3.0.0,>=2.0.0->python-doctr@ git+https://github.com/mindee/doctr.git->python-doctr[torch,viz]@ git+https://github.com/mindee/doctr.git) (12.4.127)\n",
            "Collecting nvidia-nvjitlink-cu12==12.4.127 (from torch<3.0.0,>=2.0.0->python-doctr@ git+https://github.com/mindee/doctr.git->python-doctr[torch,viz]@ git+https://github.com/mindee/doctr.git)\n",
            "  Downloading nvidia_nvjitlink_cu12-12.4.127-py3-none-manylinux2014_x86_64.whl.metadata (1.5 kB)\n",
            "Requirement already satisfied: triton==3.1.0 in /usr/local/lib/python3.11/dist-packages (from torch<3.0.0,>=2.0.0->python-doctr@ git+https://github.com/mindee/doctr.git->python-doctr[torch,viz]@ git+https://github.com/mindee/doctr.git) (3.1.0)\n",
            "Requirement already satisfied: sympy==1.13.1 in /usr/local/lib/python3.11/dist-packages (from torch<3.0.0,>=2.0.0->python-doctr@ git+https://github.com/mindee/doctr.git->python-doctr[torch,viz]@ git+https://github.com/mindee/doctr.git) (1.13.1)\n",
            "Requirement already satisfied: mpmath<1.4,>=1.1.0 in /usr/local/lib/python3.11/dist-packages (from sympy==1.13.1->torch<3.0.0,>=2.0.0->python-doctr@ git+https://github.com/mindee/doctr.git->python-doctr[torch,viz]@ git+https://github.com/mindee/doctr.git) (1.3.0)\n",
            "Requirement already satisfied: MarkupSafe>=2.0 in /usr/local/lib/python3.11/dist-packages (from jinja2->torch<3.0.0,>=2.0.0->python-doctr@ git+https://github.com/mindee/doctr.git->python-doctr[torch,viz]@ git+https://github.com/mindee/doctr.git) (3.0.2)\n",
            "Requirement already satisfied: charset-normalizer<4,>=2 in /usr/local/lib/python3.11/dist-packages (from requests->huggingface-hub<1.0.0,>=0.20.0->python-doctr@ git+https://github.com/mindee/doctr.git->python-doctr[torch,viz]@ git+https://github.com/mindee/doctr.git) (3.4.1)\n",
            "Requirement already satisfied: idna<4,>=2.5 in /usr/local/lib/python3.11/dist-packages (from requests->huggingface-hub<1.0.0,>=0.20.0->python-doctr@ git+https://github.com/mindee/doctr.git->python-doctr[torch,viz]@ git+https://github.com/mindee/doctr.git) (3.10)\n",
            "Requirement already satisfied: urllib3<3,>=1.21.1 in /usr/local/lib/python3.11/dist-packages (from requests->huggingface-hub<1.0.0,>=0.20.0->python-doctr@ git+https://github.com/mindee/doctr.git->python-doctr[torch,viz]@ git+https://github.com/mindee/doctr.git) (2.3.0)\n",
            "Requirement already satisfied: certifi>=2017.4.17 in /usr/local/lib/python3.11/dist-packages (from requests->huggingface-hub<1.0.0,>=0.20.0->python-doctr@ git+https://github.com/mindee/doctr.git->python-doctr[torch,viz]@ git+https://github.com/mindee/doctr.git) (2024.12.14)\n",
            "Downloading anyascii-0.3.2-py3-none-any.whl (289 kB)\n",
            "\u001b[2K   \u001b[90m━━━━━━━━━━━━━━━━━━━━━━━━━━━━━━━━━━━━━━━━\u001b[0m \u001b[32m289.9/289.9 kB\u001b[0m \u001b[31m20.2 MB/s\u001b[0m eta \u001b[36m0:00:00\u001b[0m\n",
            "\u001b[?25hDownloading mplcursors-0.6-py3-none-any.whl (20 kB)\n",
            "Downloading onnx-1.17.0-cp311-cp311-manylinux_2_17_x86_64.manylinux2014_x86_64.whl (16.0 MB)\n",
            "\u001b[2K   \u001b[90m━━━━━━━━━━━━━━━━━━━━━━━━━━━━━━━━━━━━━━━━\u001b[0m \u001b[32m16.0/16.0 MB\u001b[0m \u001b[31m62.5 MB/s\u001b[0m eta \u001b[36m0:00:00\u001b[0m\n",
            "\u001b[?25hDownloading pyclipper-1.3.0.post6-cp311-cp311-manylinux_2_17_x86_64.manylinux2014_x86_64.whl (969 kB)\n",
            "\u001b[2K   \u001b[90m━━━━━━━━━━━━━━━━━━━━━━━━━━━━━━━━━━━━━━━━\u001b[0m \u001b[32m969.6/969.6 kB\u001b[0m \u001b[31m53.1 MB/s\u001b[0m eta \u001b[36m0:00:00\u001b[0m\n",
            "\u001b[?25hDownloading pypdfium2-4.30.1-py3-none-manylinux_2_17_x86_64.manylinux2014_x86_64.whl (2.9 MB)\n",
            "\u001b[2K   \u001b[90m━━━━━━━━━━━━━━━━━━━━━━━━━━━━━━━━━━━━━━━━\u001b[0m \u001b[32m2.9/2.9 MB\u001b[0m \u001b[31m51.3 MB/s\u001b[0m eta \u001b[36m0:00:00\u001b[0m\n",
            "\u001b[?25hDownloading rapidfuzz-3.12.1-cp311-cp311-manylinux_2_17_x86_64.manylinux2014_x86_64.whl (3.1 MB)\n",
            "\u001b[2K   \u001b[90m━━━━━━━━━━━━━━━━━━━━━━━━━━━━━━━━━━━━━━━━\u001b[0m \u001b[32m3.1/3.1 MB\u001b[0m \u001b[31m70.8 MB/s\u001b[0m eta \u001b[36m0:00:00\u001b[0m\n",
            "\u001b[?25hDownloading nvidia_cublas_cu12-12.4.5.8-py3-none-manylinux2014_x86_64.whl (363.4 MB)\n",
            "\u001b[2K   \u001b[90m━━━━━━━━━━━━━━━━━━━━━━━━━━━━━━━━━━━━━━━━\u001b[0m \u001b[32m363.4/363.4 MB\u001b[0m \u001b[31m4.5 MB/s\u001b[0m eta \u001b[36m0:00:00\u001b[0m\n",
            "\u001b[?25hDownloading nvidia_cuda_cupti_cu12-12.4.127-py3-none-manylinux2014_x86_64.whl (13.8 MB)\n",
            "\u001b[2K   \u001b[90m━━━━━━━━━━━━━━━━━━━━━━━━━━━━━━━━━━━━━━━━\u001b[0m \u001b[32m13.8/13.8 MB\u001b[0m \u001b[31m60.0 MB/s\u001b[0m eta \u001b[36m0:00:00\u001b[0m\n",
            "\u001b[?25hDownloading nvidia_cuda_nvrtc_cu12-12.4.127-py3-none-manylinux2014_x86_64.whl (24.6 MB)\n",
            "\u001b[2K   \u001b[90m━━━━━━━━━━━━━━━━━━━━━━━━━━━━━━━━━━━━━━━━\u001b[0m \u001b[32m24.6/24.6 MB\u001b[0m \u001b[31m33.7 MB/s\u001b[0m eta \u001b[36m0:00:00\u001b[0m\n",
            "\u001b[?25hDownloading nvidia_cuda_runtime_cu12-12.4.127-py3-none-manylinux2014_x86_64.whl (883 kB)\n",
            "\u001b[2K   \u001b[90m━━━━━━━━━━━━━━━━━━━━━━━━━━━━━━━━━━━━━━━━\u001b[0m \u001b[32m883.7/883.7 kB\u001b[0m \u001b[31m30.5 MB/s\u001b[0m eta \u001b[36m0:00:00\u001b[0m\n",
            "\u001b[?25hDownloading nvidia_cudnn_cu12-9.1.0.70-py3-none-manylinux2014_x86_64.whl (664.8 MB)\n",
            "\u001b[2K   \u001b[90m━━━━━━━━━━━━━━━━━━━━━━━━━━━━━━━━━━━━━━━━\u001b[0m \u001b[32m664.8/664.8 MB\u001b[0m \u001b[31m2.8 MB/s\u001b[0m eta \u001b[36m0:00:00\u001b[0m\n",
            "\u001b[?25hDownloading nvidia_cufft_cu12-11.2.1.3-py3-none-manylinux2014_x86_64.whl (211.5 MB)\n",
            "\u001b[2K   \u001b[90m━━━━━━━━━━━━━━━━━━━━━━━━━━━━━━━━━━━━━━━━\u001b[0m \u001b[32m211.5/211.5 MB\u001b[0m \u001b[31m5.5 MB/s\u001b[0m eta \u001b[36m0:00:00\u001b[0m\n",
            "\u001b[?25hDownloading nvidia_curand_cu12-10.3.5.147-py3-none-manylinux2014_x86_64.whl (56.3 MB)\n",
            "\u001b[2K   \u001b[90m━━━━━━━━━━━━━━━━━━━━━━━━━━━━━━━━━━━━━━━━\u001b[0m \u001b[32m56.3/56.3 MB\u001b[0m \u001b[31m14.1 MB/s\u001b[0m eta \u001b[36m0:00:00\u001b[0m\n",
            "\u001b[?25hDownloading nvidia_cusolver_cu12-11.6.1.9-py3-none-manylinux2014_x86_64.whl (127.9 MB)\n",
            "\u001b[2K   \u001b[90m━━━━━━━━━━━━━━━━━━━━━━━━━━━━━━━━━━━━━━━━\u001b[0m \u001b[32m127.9/127.9 MB\u001b[0m \u001b[31m7.6 MB/s\u001b[0m eta \u001b[36m0:00:00\u001b[0m\n",
            "\u001b[?25hDownloading nvidia_cusparse_cu12-12.3.1.170-py3-none-manylinux2014_x86_64.whl (207.5 MB)\n",
            "\u001b[2K   \u001b[90m━━━━━━━━━━━━━━━━━━━━━━━━━━━━━━━━━━━━━━━━\u001b[0m \u001b[32m207.5/207.5 MB\u001b[0m \u001b[31m6.7 MB/s\u001b[0m eta \u001b[36m0:00:00\u001b[0m\n",
            "\u001b[?25hDownloading nvidia_nvjitlink_cu12-12.4.127-py3-none-manylinux2014_x86_64.whl (21.1 MB)\n",
            "\u001b[2K   \u001b[90m━━━━━━━━━━━━━━━━━━━━━━━━━━━━━━━━━━━━━━━━\u001b[0m \u001b[32m21.1/21.1 MB\u001b[0m \u001b[31m75.5 MB/s\u001b[0m eta \u001b[36m0:00:00\u001b[0m\n",
            "\u001b[?25hBuilding wheels for collected packages: python-doctr, langdetect\n",
            "  Building wheel for python-doctr (pyproject.toml) ... \u001b[?25l\u001b[?25hdone\n",
            "  Created wheel for python-doctr: filename=python_doctr-0.11.1a0-py3-none-any.whl size=304174 sha256=8799e9cf9e7b6700c30c603dde030899ec55d7e34beafa844413c9ff0fe1b7da\n",
            "  Stored in directory: /tmp/pip-ephem-wheel-cache-eocs_jzg/wheels/3f/0f/e1/d43cefe2c76f6d8be8263171180d048b609a4de1a2595b1fe4\n",
            "  Building wheel for langdetect (setup.py) ... \u001b[?25l\u001b[?25hdone\n",
            "  Created wheel for langdetect: filename=langdetect-1.0.9-py3-none-any.whl size=993222 sha256=4f7fba7be1e0e55fd0e5c1a1da9ad659a46fa6e0c7062a4921bf1235db7c3759\n",
            "  Stored in directory: /root/.cache/pip/wheels/0a/f2/b2/e5ca405801e05eb7c8ed5b3b4bcf1fcabcd6272c167640072e\n",
            "Successfully built python-doctr langdetect\n",
            "Installing collected packages: pyclipper, rapidfuzz, pypdfium2, onnx, nvidia-nvjitlink-cu12, nvidia-curand-cu12, nvidia-cufft-cu12, nvidia-cuda-runtime-cu12, nvidia-cuda-nvrtc-cu12, nvidia-cuda-cupti-cu12, nvidia-cublas-cu12, langdetect, anyascii, nvidia-cusparse-cu12, nvidia-cudnn-cu12, python-doctr, nvidia-cusolver-cu12, mplcursors\n",
            "  Attempting uninstall: nvidia-nvjitlink-cu12\n",
            "    Found existing installation: nvidia-nvjitlink-cu12 12.5.82\n",
            "    Uninstalling nvidia-nvjitlink-cu12-12.5.82:\n",
            "      Successfully uninstalled nvidia-nvjitlink-cu12-12.5.82\n",
            "  Attempting uninstall: nvidia-curand-cu12\n",
            "    Found existing installation: nvidia-curand-cu12 10.3.6.82\n",
            "    Uninstalling nvidia-curand-cu12-10.3.6.82:\n",
            "      Successfully uninstalled nvidia-curand-cu12-10.3.6.82\n",
            "  Attempting uninstall: nvidia-cufft-cu12\n",
            "    Found existing installation: nvidia-cufft-cu12 11.2.3.61\n",
            "    Uninstalling nvidia-cufft-cu12-11.2.3.61:\n",
            "      Successfully uninstalled nvidia-cufft-cu12-11.2.3.61\n",
            "  Attempting uninstall: nvidia-cuda-runtime-cu12\n",
            "    Found existing installation: nvidia-cuda-runtime-cu12 12.5.82\n",
            "    Uninstalling nvidia-cuda-runtime-cu12-12.5.82:\n",
            "      Successfully uninstalled nvidia-cuda-runtime-cu12-12.5.82\n",
            "  Attempting uninstall: nvidia-cuda-nvrtc-cu12\n",
            "    Found existing installation: nvidia-cuda-nvrtc-cu12 12.5.82\n",
            "    Uninstalling nvidia-cuda-nvrtc-cu12-12.5.82:\n",
            "      Successfully uninstalled nvidia-cuda-nvrtc-cu12-12.5.82\n",
            "  Attempting uninstall: nvidia-cuda-cupti-cu12\n",
            "    Found existing installation: nvidia-cuda-cupti-cu12 12.5.82\n",
            "    Uninstalling nvidia-cuda-cupti-cu12-12.5.82:\n",
            "      Successfully uninstalled nvidia-cuda-cupti-cu12-12.5.82\n",
            "  Attempting uninstall: nvidia-cublas-cu12\n",
            "    Found existing installation: nvidia-cublas-cu12 12.5.3.2\n",
            "    Uninstalling nvidia-cublas-cu12-12.5.3.2:\n",
            "      Successfully uninstalled nvidia-cublas-cu12-12.5.3.2\n",
            "  Attempting uninstall: nvidia-cusparse-cu12\n",
            "    Found existing installation: nvidia-cusparse-cu12 12.5.1.3\n",
            "    Uninstalling nvidia-cusparse-cu12-12.5.1.3:\n",
            "      Successfully uninstalled nvidia-cusparse-cu12-12.5.1.3\n",
            "  Attempting uninstall: nvidia-cudnn-cu12\n",
            "    Found existing installation: nvidia-cudnn-cu12 9.3.0.75\n",
            "    Uninstalling nvidia-cudnn-cu12-9.3.0.75:\n",
            "      Successfully uninstalled nvidia-cudnn-cu12-9.3.0.75\n",
            "  Attempting uninstall: nvidia-cusolver-cu12\n",
            "    Found existing installation: nvidia-cusolver-cu12 11.6.3.83\n",
            "    Uninstalling nvidia-cusolver-cu12-11.6.3.83:\n",
            "      Successfully uninstalled nvidia-cusolver-cu12-11.6.3.83\n",
            "Successfully installed anyascii-0.3.2 langdetect-1.0.9 mplcursors-0.6 nvidia-cublas-cu12-12.4.5.8 nvidia-cuda-cupti-cu12-12.4.127 nvidia-cuda-nvrtc-cu12-12.4.127 nvidia-cuda-runtime-cu12-12.4.127 nvidia-cudnn-cu12-9.1.0.70 nvidia-cufft-cu12-11.2.1.3 nvidia-curand-cu12-10.3.5.147 nvidia-cusolver-cu12-11.6.1.9 nvidia-cusparse-cu12-12.3.1.170 nvidia-nvjitlink-cu12-12.4.127 onnx-1.17.0 pyclipper-1.3.0.post6 pypdfium2-4.30.1 python-doctr-0.11.1a0 rapidfuzz-3.12.1\n",
            "Collecting ocrmypdf\n",
            "  Downloading ocrmypdf-16.8.0-py3-none-any.whl.metadata (11 kB)\n",
            "Collecting deprecation>=2.1.0 (from ocrmypdf)\n",
            "  Downloading deprecation-2.1.0-py2.py3-none-any.whl.metadata (4.6 kB)\n",
            "Collecting img2pdf>=0.5 (from ocrmypdf)\n",
            "  Downloading img2pdf-0.5.1.tar.gz (104 kB)\n",
            "\u001b[2K     \u001b[90m━━━━━━━━━━━━━━━━━━━━━━━━━━━━━━━━━━━━━━━━\u001b[0m \u001b[32m104.2/104.2 kB\u001b[0m \u001b[31m4.2 MB/s\u001b[0m eta \u001b[36m0:00:00\u001b[0m\n",
            "\u001b[?25h  Preparing metadata (setup.py) ... \u001b[?25l\u001b[?25hdone\n",
            "Requirement already satisfied: packaging>=20 in /usr/local/lib/python3.11/dist-packages (from ocrmypdf) (24.2)\n",
            "Collecting pdfminer-six>=20220319 (from ocrmypdf)\n",
            "  Downloading pdfminer.six-20240706-py3-none-any.whl.metadata (4.1 kB)\n",
            "Collecting pi-heif (from ocrmypdf)\n",
            "  Downloading pi_heif-0.21.0-cp311-cp311-manylinux_2_17_x86_64.manylinux2014_x86_64.whl.metadata (6.5 kB)\n",
            "Collecting pikepdf>=8.10.1 (from ocrmypdf)\n",
            "  Downloading pikepdf-9.5.1-cp311-cp311-manylinux_2_17_x86_64.manylinux2014_x86_64.whl.metadata (8.1 kB)\n",
            "Requirement already satisfied: pillow>=10.0.1 in /usr/local/lib/python3.11/dist-packages (from ocrmypdf) (11.1.0)\n",
            "Requirement already satisfied: pluggy>=1 in /usr/local/lib/python3.11/dist-packages (from ocrmypdf) (1.5.0)\n",
            "Requirement already satisfied: rich>=13 in /usr/local/lib/python3.11/dist-packages (from ocrmypdf) (13.9.4)\n",
            "Requirement already satisfied: charset-normalizer>=2.0.0 in /usr/local/lib/python3.11/dist-packages (from pdfminer-six>=20220319->ocrmypdf) (3.4.1)\n",
            "Requirement already satisfied: cryptography>=36.0.0 in /usr/local/lib/python3.11/dist-packages (from pdfminer-six>=20220319->ocrmypdf) (43.0.3)\n",
            "Requirement already satisfied: Deprecated in /usr/local/lib/python3.11/dist-packages (from pikepdf>=8.10.1->ocrmypdf) (1.2.18)\n",
            "Requirement already satisfied: lxml>=4.8 in /usr/local/lib/python3.11/dist-packages (from pikepdf>=8.10.1->ocrmypdf) (5.3.0)\n",
            "Requirement already satisfied: markdown-it-py>=2.2.0 in /usr/local/lib/python3.11/dist-packages (from rich>=13->ocrmypdf) (3.0.0)\n",
            "Requirement already satisfied: pygments<3.0.0,>=2.13.0 in /usr/local/lib/python3.11/dist-packages (from rich>=13->ocrmypdf) (2.18.0)\n",
            "Requirement already satisfied: cffi>=1.12 in /usr/local/lib/python3.11/dist-packages (from cryptography>=36.0.0->pdfminer-six>=20220319->ocrmypdf) (1.17.1)\n",
            "Requirement already satisfied: mdurl~=0.1 in /usr/local/lib/python3.11/dist-packages (from markdown-it-py>=2.2.0->rich>=13->ocrmypdf) (0.1.2)\n",
            "Requirement already satisfied: wrapt<2,>=1.10 in /usr/local/lib/python3.11/dist-packages (from Deprecated->pikepdf>=8.10.1->ocrmypdf) (1.17.2)\n",
            "Requirement already satisfied: pycparser in /usr/local/lib/python3.11/dist-packages (from cffi>=1.12->cryptography>=36.0.0->pdfminer-six>=20220319->ocrmypdf) (2.22)\n",
            "Downloading ocrmypdf-16.8.0-py3-none-any.whl (160 kB)\n",
            "\u001b[2K   \u001b[90m━━━━━━━━━━━━━━━━━━━━━━━━━━━━━━━━━━━━━━━━\u001b[0m \u001b[32m160.3/160.3 kB\u001b[0m \u001b[31m9.3 MB/s\u001b[0m eta \u001b[36m0:00:00\u001b[0m\n",
            "\u001b[?25hDownloading deprecation-2.1.0-py2.py3-none-any.whl (11 kB)\n",
            "Downloading pdfminer.six-20240706-py3-none-any.whl (5.6 MB)\n",
            "\u001b[2K   \u001b[90m━━━━━━━━━━━━━━━━━━━━━━━━━━━━━━━━━━━━━━━━\u001b[0m \u001b[32m5.6/5.6 MB\u001b[0m \u001b[31m76.3 MB/s\u001b[0m eta \u001b[36m0:00:00\u001b[0m\n",
            "\u001b[?25hDownloading pikepdf-9.5.1-cp311-cp311-manylinux_2_17_x86_64.manylinux2014_x86_64.whl (2.4 MB)\n",
            "\u001b[2K   \u001b[90m━━━━━━━━━━━━━━━━━━━━━━━━━━━━━━━━━━━━━━━━\u001b[0m \u001b[32m2.4/2.4 MB\u001b[0m \u001b[31m66.4 MB/s\u001b[0m eta \u001b[36m0:00:00\u001b[0m\n",
            "\u001b[?25hDownloading pi_heif-0.21.0-cp311-cp311-manylinux_2_17_x86_64.manylinux2014_x86_64.whl (1.2 MB)\n",
            "\u001b[2K   \u001b[90m━━━━━━━━━━━━━━━━━━━━━━━━━━━━━━━━━━━━━━━━\u001b[0m \u001b[32m1.2/1.2 MB\u001b[0m \u001b[31m54.7 MB/s\u001b[0m eta \u001b[36m0:00:00\u001b[0m\n",
            "\u001b[?25hBuilding wheels for collected packages: img2pdf\n",
            "  Building wheel for img2pdf (setup.py) ... \u001b[?25l\u001b[?25hdone\n",
            "  Created wheel for img2pdf: filename=img2pdf-0.5.1-py3-none-any.whl size=49276 sha256=30f734cd9d26f7a298ed597dd240485278d952e3933058f884662daaf06c526c\n",
            "  Stored in directory: /root/.cache/pip/wheels/6f/ec/69/9da613cf58f9d936c32eaee2a1f111ad79cfcc24197ad76a72\n",
            "Successfully built img2pdf\n",
            "Installing collected packages: pi-heif, deprecation, pikepdf, pdfminer-six, img2pdf, ocrmypdf\n",
            "Successfully installed deprecation-2.1.0 img2pdf-0.5.1 ocrmypdf-16.8.0 pdfminer-six-20240706 pi-heif-0.21.0 pikepdf-9.5.1\n",
            "Collecting PyPDF2\n",
            "  Downloading pypdf2-3.0.1-py3-none-any.whl.metadata (6.8 kB)\n",
            "Downloading pypdf2-3.0.1-py3-none-any.whl (232 kB)\n",
            "\u001b[2K   \u001b[90m━━━━━━━━━━━━━━━━━━━━━━━━━━━━━━━━━━━━━━━━\u001b[0m \u001b[32m232.6/232.6 kB\u001b[0m \u001b[31m6.0 MB/s\u001b[0m eta \u001b[36m0:00:00\u001b[0m\n",
            "\u001b[?25hInstalling collected packages: PyPDF2\n",
            "Successfully installed PyPDF2-3.0.1\n"
          ]
        }
      ],
      "source": [
        "# Install the most up-to-date version from GitHub\n",
        "\n",
        "# TensorFlow\n",
        "# !pip install python-doctr[tf,viz]@git+https://github.com/mindee/doctr.git\n",
        "\n",
        "# PyTorch\n",
        "# First we have to uninstall the preinstalled tensorflow version if we want to work with PyTorch as backend\n",
        "# because the env variables USE_TORCH=1 / USE_TF=1 doesn't have an effect in Colab\n",
        "!pip uninstall -y tensorflow\n",
        "!pip install python-doctr[torch,viz]@git+https://github.com/mindee/doctr.git\n",
        "\n",
        "# Install additional requirements (for hOCR conversion and PDF file merging)\n",
        "!pip install ocrmypdf\n",
        "!pip install PyPDF2"
      ]
    },
    {
      "cell_type": "markdown",
      "source": [
        "We will use `ocrmypdf` to parse our exported XML-Tree/File in hOCR format ([hOCR convention](https://github.com/kba/hocr-spec/blob/master/1.2/spec.md)) and `PyPDF` to merge the single generated PDF/A files into one."
      ],
      "metadata": {
        "id": "165zmKJeC5a4"
      }
    },
    {
      "cell_type": "code",
      "execution_count": 2,
      "metadata": {
        "id": "ZC8sIbEZvAXS"
      },
      "outputs": [],
      "source": [
        "# Imports\n",
        "import os\n",
        "import base64\n",
        "import re\n",
        "from tempfile import TemporaryDirectory\n",
        "\n",
        "from PyPDF2 import PdfMerger, PdfReader\n",
        "from doctr.io import DocumentFile\n",
        "from doctr.models import ocr_predictor, from_hub\n",
        "from PIL import Image\n",
        "from ocrmypdf.hocrtransform import HocrTransform"
      ]
    },
    {
      "cell_type": "code",
      "source": [
        "# prompt: mount my google drive root\n",
        "\n",
        "import os\n",
        "import base64\n",
        "import re\n",
        "from tempfile import TemporaryDirectory\n",
        "from PyPDF2 import PdfMerger, PdfReader\n",
        "from doctr.io import DocumentFile\n",
        "from doctr.models import ocr_predictor, from_hub\n",
        "from PIL import Image\n",
        "from ocrmypdf.hocrtransform import HocrTransform\n",
        "\n",
        "# Mount Google Drive\n",
        "from google.colab import drive\n",
        "drive.mount('/content/drive', force_remount=True) # force_remount ensures it works even if already mounted\n",
        "\n",
        "# Now you can access your Google Drive files like this:\n",
        "# Example: list files in your Google Drive root\n",
        "!ls \"/content/drive/MyDrive\" | grep libro\n"
      ],
      "metadata": {
        "id": "EkKPbSJjAjyb",
        "outputId": "377fc191-a016-44c8-a13d-696065eafed5",
        "colab": {
          "base_uri": "https://localhost:8080/"
        }
      },
      "execution_count": 7,
      "outputs": [
        {
          "output_type": "stream",
          "name": "stdout",
          "text": [
            "Mounted at /content/drive\n",
            "libro.pdf\n"
          ]
        }
      ]
    },
    {
      "cell_type": "markdown",
      "metadata": {
        "id": "hzpt5nHFvAXe"
      },
      "source": [
        "## OCR the files and show the results\n",
        "\n",
        "Now we are ready to start the OCR process and show the results."
      ]
    },
    {
      "cell_type": "code",
      "execution_count": null,
      "metadata": {
        "id": "HjhRaZ6tvAXe"
      },
      "outputs": [],
      "source": [
        "# Download a sample\n",
        "!wget https://github.com/mindee/doctr/releases/download/v0.1.0/Versicherungsbedingungen-08-2021.pdf"
      ]
    },
    {
      "cell_type": "code",
      "execution_count": null,
      "metadata": {
        "id": "ytK2KRfR_XIg"
      },
      "outputs": [],
      "source": [
        "# Read the file\n",
        "docs = DocumentFile.from_pdf(\"/content/drive/MyDrive/libro.pdf\")\n",
        "# The document contains german text let's use a multilingual fine tuned model from the Hugging Face hub.\n",
        "reco_model = from_hub(\"Felix92/doctr-torch-parseq-multilingual-v1\")\n",
        "model = ocr_predictor(det_arch='fast_base', reco_arch=reco_model, pretrained=True)\n",
        "# we will grab only the first two pages from the pdf for demonstration\n",
        "result = model(docs[:20])\n",
        "result.show()"
      ]
    },
    {
      "cell_type": "markdown",
      "metadata": {
        "id": "MiA8N21GvAXf"
      },
      "source": [
        "## Export as PDF/A\n",
        "In this section we will export our documents as PDF/A files.\n",
        "\n",
        "We show 3 possible options for this."
      ]
    },
    {
      "cell_type": "markdown",
      "metadata": {
        "id": "3LgvG3p7_XIh"
      },
      "source": [
        "### All as single PDF/A file\n",
        "All files will be saved as single file."
      ]
    },
    {
      "cell_type": "code",
      "execution_count": 9,
      "metadata": {
        "id": "2dDy5t1UvAXf"
      },
      "outputs": [],
      "source": [
        "# returns: list of tuple where the first element is the (bytes) xml string and the second is the ElementTree\n",
        "xml_outputs = result.export_as_xml()\n",
        "\n",
        "# iterate through the xml outputs and images and export to pdf/a\n",
        "# the image is optional else you can set invisible_text=False and the text will be printed on a blank page\n",
        "with TemporaryDirectory() as tmpdir:\n",
        "    for i, (xml, img) in enumerate(zip(xml_outputs, docs)):\n",
        "        # write the images temp\n",
        "        Image.fromarray(img).save(os.path.join(tmpdir, f\"{i}.jpg\"))\n",
        "        # write the xml content temp\n",
        "        with open(os.path.join(tmpdir, f\"{i}.xml\"),\"w\") as f :\n",
        "            f.write(xml_outputs[i][0].decode())\n",
        "        # Init hOCR transfomer\n",
        "        hocr = HocrTransform(hocr_filename=os.path.join(tmpdir, f\"{i}.xml\"), dpi=300)\n",
        "        # Save as PDF/A\n",
        "        hocr.to_pdf(out_filename=f\"{i}.pdf\", image_filename=os.path.join(tmpdir, f\"{i}.jpg\"))"
      ]
    },
    {
      "cell_type": "markdown",
      "metadata": {
        "id": "VMgD73uO_XIh"
      },
      "source": [
        "### All merged into one PDF/A file\n",
        "All PDF/A files will be merged into one PDF/A file."
      ]
    },
    {
      "cell_type": "code",
      "execution_count": null,
      "metadata": {
        "id": "SkEZrL-hvAXg"
      },
      "outputs": [],
      "source": [
        "# returns: list of tuple where the first element is the (bytes) xml string and the second is the ElementTree\n",
        "xml_outputs = result.export_as_xml()\n",
        "\n",
        "# you can also merge multiple pdfs into one\n",
        "\n",
        "merger = PdfMerger()\n",
        "\n",
        "with TemporaryDirectory() as tmpdir:\n",
        "    for i, (xml, img) in enumerate(zip(xml_outputs, docs)):\n",
        "        # write the images temp\n",
        "        Image.fromarray(img).save(os.path.join(tmpdir, f\"{i}.jpg\"))\n",
        "        # write the xml content temp\n",
        "        with open(os.path.join(tmpdir, f\"{i}.xml\"),\"w\") as f :\n",
        "            f.write(xml_outputs[i][0].decode())\n",
        "        # Init hOCR transfomer\n",
        "        hocr = HocrTransform(hocr_filename=os.path.join(tmpdir, f\"{i}.xml\"), dpi=300)\n",
        "        # Save as PDF/A\n",
        "        hocr.to_pdf(out_filename=os.path.join(tmpdir, f\"{i}.pdf\"), image_filename=os.path.join(tmpdir, f\"{i}.jpg\"))\n",
        "        # Append to merger\n",
        "        merger.append(f'{tmpdir}/{i}.pdf')\n",
        "    # Save as combined pdf\n",
        "    merger.write(f'docTR-PDF.pdf')"
      ]
    },
    {
      "cell_type": "markdown",
      "metadata": {
        "id": "jaupVFSW_XIi"
      },
      "source": [
        "### All as base64 encoded PDF/A files\n",
        "All PDF/A files will be saved as base64 strings in a list."
      ]
    },
    {
      "cell_type": "code",
      "execution_count": null,
      "metadata": {
        "id": "owWVIPcKvAXg"
      },
      "outputs": [],
      "source": [
        "# returns: list of tuple where the first element is the (bytes) xml string and the second is the ElementTree\n",
        "xml_outputs = result.export_as_xml()\n",
        "\n",
        "# or encode the pdfs into base64 (Rest API usage)\n",
        "base64_encoded_pdfs = list()\n",
        "\n",
        "with TemporaryDirectory() as tmpdir:\n",
        "    for i, (xml, img) in enumerate(zip(xml_outputs, docs)):\n",
        "        # write the images temp\n",
        "        Image.fromarray(img).save(os.path.join(tmpdir, f\"{i}.jpg\"))\n",
        "        # write the xml content temp\n",
        "        with open(os.path.join(tmpdir, f\"{i}.xml\"),\"w\") as f :\n",
        "            f.write(xml_outputs[i][0].decode())\n",
        "        # Init hOCR transfomer\n",
        "        hocr = HocrTransform(hocr_filename=os.path.join(tmpdir, f\"{i}.xml\"), dpi=300)\n",
        "        # Save as PDF/A\n",
        "        hocr.to_pdf(out_filename=os.path.join(tmpdir, f\"{i}.pdf\"), image_filename=os.path.join(tmpdir, f\"{i}.jpg\"))\n",
        "        with open(os.path.join(tmpdir, f\"{i}.pdf\"), \"rb\") as f:\n",
        "            base64_encoded_pdfs.append(base64.b64encode(f.read()))\n",
        "\n",
        "print(f'{len(base64_encoded_pdfs)} pdfs encoded')"
      ]
    },
    {
      "cell_type": "markdown",
      "metadata": {
        "id": "Fd7UAqBu_XIj"
      },
      "source": [
        "## How can I use a PDF/A?\n",
        "You can open the saved pdf's with any PDF-Viewer and type some words you are searching for in the document.\n",
        "\n",
        "Matches will be highlighted in the text layer.\n",
        "\n",
        "Or you use Python to search, for example words in the text layer."
      ]
    },
    {
      "cell_type": "code",
      "execution_count": null,
      "metadata": {
        "id": "w6enw9Rz_XIj"
      },
      "outputs": [],
      "source": [
        "# search specific words in the pdf and print all matches\n",
        "pattern = \"Allianz\"\n",
        "file_name = \"docTR-PDF.pdf\"\n",
        "\n",
        "reader = PdfReader(file_name)\n",
        "num_pages = len(reader.pages)\n",
        "\n",
        "for i in range(0, num_pages):\n",
        "    page = reader.pages[i]\n",
        "    text = page.extract_text()\n",
        "\n",
        "    for match in re.finditer(pattern, text):\n",
        "        print(f'Page no: {i} | Match: {match}')"
      ]
    },
    {
      "cell_type": "markdown",
      "metadata": {
        "id": "zAe03C8w_XIj"
      },
      "source": [
        "## To go further\n",
        "[Wikipedia PDF/A](https://en.wikipedia.org/wiki/PDF/A)\n",
        "\n",
        "[Difference between PDF/A and PDF](https://askanydifference.com/difference-between-pdf-a-and-pdf/)\n",
        "\n",
        "### Happy Coding :)"
      ]
    }
  ],
  "metadata": {
    "colab": {
      "provenance": []
    },
    "interpreter": {
      "hash": "103ff19777622dbbd1c8370264e2f56c4c49c75e119dc12fd0a9f41eba03d66f"
    },
    "kernelspec": {
      "display_name": "Python 3",
      "language": "python",
      "name": "python3"
    },
    "language_info": {
      "codemirror_mode": {
        "name": "ipython",
        "version": 3
      },
      "file_extension": ".py",
      "mimetype": "text/x-python",
      "name": "python",
      "nbconvert_exporter": "python",
      "pygments_lexer": "ipython3",
      "version": "3.8.8"
    }
  },
  "nbformat": 4,
  "nbformat_minor": 0
}